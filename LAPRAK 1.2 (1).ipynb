{
 "cells": [
  {
   "cell_type": "code",
   "execution_count": null,
   "id": "4640a337-3d56-46b4-81c8-b6aa014a7bf3",
   "metadata": {},
   "outputs": [],
   "source": [
    "gram_awal = 25\n",
    "harga_beli_awal = 650000\n",
    "harga_beli_kedua = 685000\n",
    "harga_emas_naik = 715000\n",
    "harga_emas_awal = (gram_awal * harga_beli_awal)\n",
    "harga_emas_baru = (gram_awal * harga_beli_kedua)\n",
    "keuntungan_rp = (harga_emas_baru - harga_emas_awal)\n",
    "keuntungan_persen = (keuntungan_rp / harga_emas_awal) * 100\n",
    "harga_emas_2 = ((gram_awal + 15) * (harga_beli_kedua))\n",
    "harga_emas_3 = ((gram_awal + 15) * (harga_emas_naik))\n",
    "keuntungan_rp_baru = harga_emas_3 - harga_emas_2\n",
    "keuntungan_persen_baru = (keuntungan_rp_baru / harga_emas_2) * 100\n",
    "print(f\"{keuntungan_rp} , {keuntungan_persen:}%\")\n",
    "print(f\"{keuntungan_rp_baru} , {keuntungan_persen_baru}%\")\n"
   ]
  }
 ],
 "metadata": {
  "kernelspec": {
   "display_name": "Python [conda env:base] *",
   "language": "python",
   "name": "conda-base-py"
  },
  "language_info": {
   "codemirror_mode": {
    "name": "ipython",
    "version": 3
   },
   "file_extension": ".py",
   "mimetype": "text/x-python",
   "name": "python",
   "nbconvert_exporter": "python",
   "pygments_lexer": "ipython3",
   "version": "3.12.7"
  }
 },
 "nbformat": 4,
 "nbformat_minor": 5
}
