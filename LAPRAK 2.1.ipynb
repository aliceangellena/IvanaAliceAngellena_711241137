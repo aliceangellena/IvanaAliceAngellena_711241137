{
 "cells": [
  {
   "cell_type": "code",
   "execution_count": null,
   "id": "0f290601-e1f4-4388-b646-f5fbb7c5fb1a",
   "metadata": {},
   "outputs": [],
   "source": [
    "import math\n",
    "uang_awal = 200000000\n",
    "uang_di_deposito = 400000000\n",
    "bunga_tiap_tahun = 0.1 \n",
    "waktu_yang_dibutuhkan = math.log(uang_di_deposito / uang_awal) / math.log(1 + bunga_tiap_tahun)\n",
    "waktu_yang_dibutuhkan"
   ]
  }
 ],
 "metadata": {
  "kernelspec": {
   "display_name": "Python [conda env:base] *",
   "language": "python",
   "name": "conda-base-py"
  },
  "language_info": {
   "codemirror_mode": {
    "name": "ipython",
    "version": 3
   },
   "file_extension": ".py",
   "mimetype": "text/x-python",
   "name": "python",
   "nbconvert_exporter": "python",
   "pygments_lexer": "ipython3",
   "version": "3.12.7"
  }
 },
 "nbformat": 4,
 "nbformat_minor": 5
}
